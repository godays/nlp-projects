{
  "cells": [
    {
      "cell_type": "code",
      "execution_count": 1,
      "metadata": {
        "colab": {
          "base_uri": "https://localhost:8080/"
        },
        "id": "qsyach5VAFVT",
        "outputId": "c3c9add2-0cc7-4ca6-bc79-ca106196057f"
      },
      "outputs": [
        {
          "name": "stdout",
          "output_type": "stream",
          "text": [
            "Drive already mounted at /content/drive; to attempt to forcibly remount, call drive.mount(\"/content/drive\", force_remount=True).\n"
          ]
        }
      ],
      "source": [
        "from google.colab import drive\n",
        "drive.mount('/content/drive')"
      ]
    },
    {
      "cell_type": "code",
      "execution_count": 2,
      "metadata": {
        "colab": {
          "base_uri": "https://localhost:8080/"
        },
        "id": "KyHLp8vI_82u",
        "outputId": "16ee23fd-eed2-44be-a99c-f7c08fbfcc9f"
      },
      "outputs": [
        {
          "name": "stdout",
          "output_type": "stream",
          "text": [
            "/content/drive/MyDrive/nlp_2\n"
          ]
        }
      ],
      "source": [
        "cd drive/MyDrive/nlp_2"
      ]
    },
    {
      "cell_type": "code",
      "execution_count": 4,
      "metadata": {
        "colab": {
          "base_uri": "https://localhost:8080/"
        },
        "id": "Dr8yORV_DitU",
        "outputId": "c5073a88-b89a-4c2b-c0cf-078bec929ee1"
      },
      "outputs": [
        {
          "name": "stdout",
          "output_type": "stream",
          "text": [
            "baseline.py            get_bleu_score.py  lstm_attention.py  requirements.txt\n",
            "data_preprocessing.py  GRU_attention.py   main.py            train_pipeline.py\n",
            "data.txt               GRU_only.py        \u001b[0m\u001b[01;34m__pycache__\u001b[0m/       utils.py\n"
          ]
        }
      ],
      "source": [
        "ls"
      ]
    },
    {
      "cell_type": "code",
      "execution_count": 5,
      "metadata": {
        "colab": {
          "base_uri": "https://localhost:8080/"
        },
        "id": "BsxTgBePcmWf",
        "outputId": "8ffeabf9-2b8f-4184-ceda-1df2edfe14cc"
      },
      "outputs": [
        {
          "name": "stdout",
          "output_type": "stream",
          "text": [
            "\u001b[K     |████████████████████████████████| 112 kB 34.1 MB/s \n",
            "\u001b[K     |████████████████████████████████| 49 kB 7.5 MB/s \n",
            "\u001b[K     |████████████████████████████████| 140 kB 71.5 MB/s \n",
            "\u001b[K     |████████████████████████████████| 596 kB 63.4 MB/s \n",
            "\u001b[K     |████████████████████████████████| 829 kB 48.3 MB/s \n",
            "\u001b[K     |████████████████████████████████| 136 kB 70.1 MB/s \n",
            "\u001b[K     |████████████████████████████████| 134 kB 78.5 MB/s \n",
            "\u001b[K     |████████████████████████████████| 133 kB 81.5 MB/s \n",
            "\u001b[K     |████████████████████████████████| 132 kB 78.1 MB/s \n",
            "\u001b[K     |████████████████████████████████| 132 kB 81.0 MB/s \n",
            "\u001b[K     |████████████████████████████████| 125 kB 12.0 MB/s \n",
            "\u001b[K     |████████████████████████████████| 125 kB 79.1 MB/s \n",
            "\u001b[K     |████████████████████████████████| 123 kB 80.3 MB/s \n",
            "\u001b[K     |████████████████████████████████| 119 kB 79.0 MB/s \n",
            "\u001b[K     |████████████████████████████████| 118 kB 69.9 MB/s \n",
            "\u001b[K     |████████████████████████████████| 115 kB 75.1 MB/s \n",
            "\u001b[K     |████████████████████████████████| 114 kB 71.4 MB/s \n",
            "\u001b[K     |████████████████████████████████| 111 kB 61.3 MB/s \n",
            "\u001b[K     |████████████████████████████████| 108 kB 76.5 MB/s \n",
            "\u001b[K     |████████████████████████████████| 107 kB 77.9 MB/s \n",
            "\u001b[K     |████████████████████████████████| 103 kB 74.0 MB/s \n",
            "\u001b[K     |████████████████████████████████| 103 kB 74.1 MB/s \n",
            "\u001b[?25h  Building wheel for pyperclip (setup.py) ... \u001b[?25l\u001b[?25hdone\n",
            "  Building wheel for smart-open (setup.py) ... \u001b[?25l\u001b[?25hdone\n",
            "  Building wheel for future (setup.py) ... \u001b[?25l\u001b[?25hdone\n",
            "\u001b[31mERROR: pip's dependency resolver does not currently take into account all the packages that are installed. This behaviour is the source of the following dependency conflicts.\n",
            "tensorflow 2.8.0+zzzcolab20220506162203 requires tf-estimator-nightly==2.8.0.dev2021122109, which is not installed.\n",
            "yellowbrick 1.4 requires scikit-learn>=1.0.0, but you have scikit-learn 0.20.2 which is incompatible.\n",
            "xarray-einstats 0.2.2 requires numpy>=1.21, but you have numpy 1.20.3 which is incompatible.\n",
            "torchvision 0.12.0+cu113 requires torch==1.11.0, but you have torch 1.8.1 which is incompatible.\n",
            "torchnlp 0.0.0.1 requires torch==1.0.0, but you have torch 1.8.1 which is incompatible.\n",
            "torchnlp 0.0.0.1 requires torchtext==0.4.0, but you have torchtext 0.9.1 which is incompatible.\n",
            "torchnlp 0.0.0.1 requires tqdm==4.28.1, but you have tqdm 4.60.0 which is incompatible.\n",
            "torchaudio 0.11.0+cu113 requires torch==1.11.0, but you have torch 1.8.1 which is incompatible.\n",
            "tensorflow 2.8.0+zzzcolab20220506162203 requires tensorboard<2.9,>=2.8, but you have tensorboard 2.4.1 which is incompatible.\n",
            "imbalanced-learn 0.8.1 requires scikit-learn>=0.24, but you have scikit-learn 0.20.2 which is incompatible.\n",
            "googleapis-common-protos 1.56.1 requires protobuf>=3.15.0, but you have protobuf 3.14.0 which is incompatible.\n",
            "google-colab 1.0.0 requires requests~=2.23.0, but you have requests 2.25.1 which is incompatible.\n",
            "flask 1.1.4 requires Jinja2<3.0,>=2.10.1, but you have jinja2 3.0.1 which is incompatible.\n",
            "datascience 0.10.6 requires folium==0.2.1, but you have folium 0.8.3 which is incompatible.\n",
            "albumentations 0.1.12 requires imgaug<0.2.7,>=0.2.5, but you have imgaug 0.2.9 which is incompatible.\u001b[0m\n"
          ]
        }
      ],
      "source": [
        "!pip install -r requirements.txt -q"
      ]
    },
    {
      "cell_type": "code",
      "execution_count": 6,
      "metadata": {
        "colab": {
          "base_uri": "https://localhost:8080/"
        },
        "id": "DPw7V0bFQ_5e",
        "outputId": "989d3d46-5bce-4393-a14e-c522deaad469"
      },
      "outputs": [
        {
          "name": "stderr",
          "output_type": "stream",
          "text": [
            "/usr/local/lib/python3.7/dist-packages/sklearn/ensemble/gradient_boosting.py:34: DeprecationWarning: `np.bool` is a deprecated alias for the builtin `bool`. To silence this warning, use `bool` by itself. Doing this will not modify any behavior and is safe. If you specifically wanted the numpy scalar type, use `np.bool_` here.\n",
            "Deprecated in NumPy 1.20; for more details and guidance: https://numpy.org/devdocs/release/1.20.0-notes.html#deprecations\n",
            "  from ._gradient_boosting import predict_stages\n",
            "/usr/local/lib/python3.7/dist-packages/sklearn/ensemble/gradient_boosting.py:34: DeprecationWarning: `np.bool` is a deprecated alias for the builtin `bool`. To silence this warning, use `bool` by itself. Doing this will not modify any behavior and is safe. If you specifically wanted the numpy scalar type, use `np.bool_` here.\n",
            "Deprecated in NumPy 1.20; for more details and guidance: https://numpy.org/devdocs/release/1.20.0-notes.html#deprecations\n",
            "  from ._gradient_boosting import predict_stages\n",
            "/usr/local/lib/python3.7/dist-packages/sklearn/feature_extraction/image.py:167: DeprecationWarning: `np.int` is a deprecated alias for the builtin `int`. To silence this warning, use `int` by itself. Doing this will not modify any behavior and is safe. When replacing `np.int`, you may wish to use e.g. `np.int64` or `np.int32` to specify the precision. If you wish to review your current use, check the release note link for additional information.\n",
            "Deprecated in NumPy 1.20; for more details and guidance: https://numpy.org/devdocs/release/1.20.0-notes.html#deprecations\n",
            "  dtype=np.int):\n",
            "/usr/local/lib/python3.7/dist-packages/sklearn/linear_model/least_angle.py:35: DeprecationWarning: `np.float` is a deprecated alias for the builtin `float`. To silence this warning, use `float` by itself. Doing this will not modify any behavior and is safe. If you specifically wanted the numpy scalar type, use `np.float64` here.\n",
            "Deprecated in NumPy 1.20; for more details and guidance: https://numpy.org/devdocs/release/1.20.0-notes.html#deprecations\n",
            "  eps=np.finfo(np.float).eps,\n",
            "/usr/local/lib/python3.7/dist-packages/sklearn/linear_model/least_angle.py:597: DeprecationWarning: `np.float` is a deprecated alias for the builtin `float`. To silence this warning, use `float` by itself. Doing this will not modify any behavior and is safe. If you specifically wanted the numpy scalar type, use `np.float64` here.\n",
            "Deprecated in NumPy 1.20; for more details and guidance: https://numpy.org/devdocs/release/1.20.0-notes.html#deprecations\n",
            "  eps=np.finfo(np.float).eps, copy_X=True, fit_path=True,\n",
            "/usr/local/lib/python3.7/dist-packages/sklearn/linear_model/least_angle.py:836: DeprecationWarning: `np.float` is a deprecated alias for the builtin `float`. To silence this warning, use `float` by itself. Doing this will not modify any behavior and is safe. If you specifically wanted the numpy scalar type, use `np.float64` here.\n",
            "Deprecated in NumPy 1.20; for more details and guidance: https://numpy.org/devdocs/release/1.20.0-notes.html#deprecations\n",
            "  eps=np.finfo(np.float).eps, copy_X=True, fit_path=True,\n",
            "/usr/local/lib/python3.7/dist-packages/sklearn/linear_model/least_angle.py:862: DeprecationWarning: `np.float` is a deprecated alias for the builtin `float`. To silence this warning, use `float` by itself. Doing this will not modify any behavior and is safe. If you specifically wanted the numpy scalar type, use `np.float64` here.\n",
            "Deprecated in NumPy 1.20; for more details and guidance: https://numpy.org/devdocs/release/1.20.0-notes.html#deprecations\n",
            "  eps=np.finfo(np.float).eps, positive=False):\n",
            "/usr/local/lib/python3.7/dist-packages/sklearn/linear_model/least_angle.py:1097: DeprecationWarning: `np.float` is a deprecated alias for the builtin `float`. To silence this warning, use `float` by itself. Doing this will not modify any behavior and is safe. If you specifically wanted the numpy scalar type, use `np.float64` here.\n",
            "Deprecated in NumPy 1.20; for more details and guidance: https://numpy.org/devdocs/release/1.20.0-notes.html#deprecations\n",
            "  max_n_alphas=1000, n_jobs=None, eps=np.finfo(np.float).eps,\n",
            "/usr/local/lib/python3.7/dist-packages/sklearn/linear_model/least_angle.py:1344: DeprecationWarning: `np.float` is a deprecated alias for the builtin `float`. To silence this warning, use `float` by itself. Doing this will not modify any behavior and is safe. If you specifically wanted the numpy scalar type, use `np.float64` here.\n",
            "Deprecated in NumPy 1.20; for more details and guidance: https://numpy.org/devdocs/release/1.20.0-notes.html#deprecations\n",
            "  max_n_alphas=1000, n_jobs=None, eps=np.finfo(np.float).eps,\n",
            "/usr/local/lib/python3.7/dist-packages/sklearn/linear_model/least_angle.py:1480: DeprecationWarning: `np.float` is a deprecated alias for the builtin `float`. To silence this warning, use `float` by itself. Doing this will not modify any behavior and is safe. If you specifically wanted the numpy scalar type, use `np.float64` here.\n",
            "Deprecated in NumPy 1.20; for more details and guidance: https://numpy.org/devdocs/release/1.20.0-notes.html#deprecations\n",
            "  eps=np.finfo(np.float).eps, copy_X=True, positive=False):\n",
            "/usr/local/lib/python3.7/dist-packages/sklearn/linear_model/randomized_l1.py:152: DeprecationWarning: `np.float` is a deprecated alias for the builtin `float`. To silence this warning, use `float` by itself. Doing this will not modify any behavior and is safe. If you specifically wanted the numpy scalar type, use `np.float64` here.\n",
            "Deprecated in NumPy 1.20; for more details and guidance: https://numpy.org/devdocs/release/1.20.0-notes.html#deprecations\n",
            "  precompute=False, eps=np.finfo(np.float).eps,\n",
            "/usr/local/lib/python3.7/dist-packages/sklearn/linear_model/randomized_l1.py:320: DeprecationWarning: `np.float` is a deprecated alias for the builtin `float`. To silence this warning, use `float` by itself. Doing this will not modify any behavior and is safe. If you specifically wanted the numpy scalar type, use `np.float64` here.\n",
            "Deprecated in NumPy 1.20; for more details and guidance: https://numpy.org/devdocs/release/1.20.0-notes.html#deprecations\n",
            "  eps=np.finfo(np.float).eps, random_state=None,\n",
            "/usr/local/lib/python3.7/dist-packages/sklearn/linear_model/randomized_l1.py:580: DeprecationWarning: `np.float` is a deprecated alias for the builtin `float`. To silence this warning, use `float` by itself. Doing this will not modify any behavior and is safe. If you specifically wanted the numpy scalar type, use `np.float64` here.\n",
            "Deprecated in NumPy 1.20; for more details and guidance: https://numpy.org/devdocs/release/1.20.0-notes.html#deprecations\n",
            "  eps=4 * np.finfo(np.float).eps, n_jobs=None,\n"
          ]
        }
      ],
      "source": [
        "import matplotlib.pyplot as plt\n",
        "\n",
        "import data_preprocessing\n",
        "import get_bleu_score\n",
        "import train_pipeline\n",
        "import utils\n",
        "\n",
        "import lstm_attention\n",
        "import GRU_attention\n",
        "import GRU_only\n",
        "import baseline"
      ]
    },
    {
      "cell_type": "code",
      "execution_count": 7,
      "metadata": {
        "id": "-Q6OcuLCRIrb"
      },
      "outputs": [],
      "source": [
        "train_data, valid_data, test_data, SRC, TRG = data_preprocessing.return_preprocessed_data()"
      ]
    },
    {
      "cell_type": "markdown",
      "metadata": {
        "id": "fLcnXu6jQpTQ"
      },
      "source": [
        "# 1 Baseline with more iterations"
      ]
    },
    {
      "cell_type": "code",
      "execution_count": 8,
      "metadata": {
        "colab": {
          "base_uri": "https://localhost:8080/"
        },
        "id": "xl7eFOG2duzd",
        "outputId": "2b6157db-2264-447b-9bb1-0612a07e6e21"
      },
      "outputs": [
        {
          "name": "stderr",
          "output_type": "stream",
          "text": [
            "1250it [02:18,  9.02it/s]\n",
            "1250it [02:18,  9.03it/s]\n",
            "1250it [02:19,  8.94it/s]\n",
            "1250it [02:18,  9.04it/s]\n",
            "1250it [02:18,  9.01it/s]\n",
            "1250it [02:18,  9.01it/s]\n",
            "1250it [02:18,  9.06it/s]\n",
            "1250it [02:18,  9.01it/s]\n",
            "1250it [02:18,  9.00it/s]\n",
            "1250it [02:18,  9.02it/s]\n",
            "1250it [02:18,  9.04it/s]\n",
            "1250it [02:18,  9.03it/s]\n",
            "1250it [02:19,  8.98it/s]\n",
            "1250it [02:17,  9.07it/s]\n",
            "1250it [02:18,  9.03it/s]\n",
            "1250it [02:19,  8.98it/s]\n",
            "1250it [02:19,  8.99it/s]\n",
            "1250it [02:19,  8.97it/s]\n",
            "1250it [02:18,  9.00it/s]\n",
            "1250it [02:18,  9.04it/s]\n",
            "1250it [02:18,  8.99it/s]\n",
            "1250it [02:19,  8.98it/s]\n",
            "1250it [02:18,  9.02it/s]\n",
            "1250it [02:18,  9.03it/s]\n",
            "1250it [02:18,  9.06it/s]\n",
            "1250it [02:19,  8.95it/s]\n",
            "1250it [02:19,  8.99it/s]\n",
            "1250it [02:18,  9.03it/s]\n",
            "1250it [02:17,  9.09it/s]\n",
            "1250it [02:17,  9.07it/s]\n"
          ]
        }
      ],
      "source": [
        "baseline_model, train_history, valid_history, test_iterator = \\\n",
        "                train_pipeline.train_model(train_data, \n",
        "                                           valid_data, \n",
        "                                           test_data, \n",
        "                                           SRC, TRG,\n",
        "                                           baseline.Encoder,\n",
        "                                           baseline.Decoder, \n",
        "                                           baseline.Seq2Seq, \n",
        "                                           'Baseline 30 iters',\n",
        "                                           batch_size=32,\n",
        "                                           n_iter=30)"
      ]
    },
    {
      "cell_type": "code",
      "execution_count": 9,
      "metadata": {
        "id": "bIBkr3eed1X4"
      },
      "outputs": [],
      "source": [
        "bleu_score, original_text, generated_text = get_bleu_score.get_bleu_score(baseline_model, test_iterator, TRG)"
      ]
    },
    {
      "cell_type": "code",
      "execution_count": 10,
      "metadata": {
        "colab": {
          "base_uri": "https://localhost:8080/"
        },
        "id": "8Y--o5dxg6tA",
        "outputId": "4482b362-f6f2-4d0d-bfa6-ae3f236b5055"
      },
      "outputs": [
        {
          "name": "stdout",
          "output_type": "stream",
          "text": [
            "22.515600501017328\n"
          ]
        }
      ],
      "source": [
        "print(bleu_score)"
      ]
    },
    {
      "cell_type": "code",
      "execution_count": 11,
      "metadata": {
        "colab": {
          "base_uri": "https://localhost:8080/"
        },
        "id": "shNQixUSg83Y",
        "outputId": "a1f11dc4-6333-4114-a67a-1bcbd463748d"
      },
      "outputs": [
        {
          "name": "stdout",
          "output_type": "stream",
          "text": [
            "original: there is also a kitchen , fitted with an oven .\n",
            "translated: kitchen is fitted with an oven and a refrigerator .\n",
            "\n",
            "original: free wifi is available .\n",
            "translated: free wi - fi access is available .\n",
            "\n",
            "original: the property also offers free parking .\n",
            "translated: parking is provided .\n",
            "\n",
            "original: other facilities offered include a massage .\n",
            "translated: a massage service is available .\n",
            "\n",
            "original: the accommodation will provide you with air conditioning .\n",
            "translated: air conditioning and air conditioning .\n",
            "\n"
          ]
        }
      ],
      "source": [
        "for i in range(5):\n",
        "    print('original:', ' '.join(original_text[i]))\n",
        "    print('translated:', ' '.join(generated_text[i]))\n",
        "    print()"
      ]
    },
    {
      "cell_type": "code",
      "execution_count": 12,
      "metadata": {
        "colab": {
          "base_uri": "https://localhost:8080/",
          "height": 282
        },
        "id": "z0cqD5tVjBsP",
        "outputId": "9f6172cc-fac7-471e-8f98-37b9806b389b"
      },
      "outputs": [
        {
          "data": {
            "text/plain": [
              "<matplotlib.legend.Legend at 0x7fdada2c9710>"
            ]
          },
          "execution_count": 12,
          "metadata": {},
          "output_type": "execute_result"
        },
        {
          "data": {
            "image/png": "[encoded data removed]",
            "text/plain": [
              "<Figure size 432x288 with 1 Axes>"
            ]
          },
          "metadata": {
            "needs_background": "light"
          },
          "output_type": "display_data"
        }
      ],
      "source": [
        "plt.plot(train_history, label='train')\n",
        "plt.plot(valid_history, label='valid')\n",
        "plt.legend()"
      ]
    },
    {
      "cell_type": "markdown",
      "metadata": {
        "id": "EqdJLxvj8kv7"
      },
      "source": [
        "Бейзлайн с увеличенным количеством итераций (30) удалось обучить до BLEU = 22.52.  \n",
        "Качестве модели очень среднее.  \n",
        "Обучение на Colab длилось около часа.  \n",
        "Модель переобучается после 10 итерации.  \n",
        "В режиме inference модель сможет обрабатывать батч размером 32 за 0.1 секунды."
      ]
    },
    {
      "cell_type": "markdown",
      "metadata": {
        "id": "G-L6JPat-Uoq"
      },
      "source": [
        "# 2. Only GRU"
      ]
    },
    {
      "cell_type": "code",
      "execution_count": 13,
      "metadata": {
        "colab": {
          "base_uri": "https://localhost:8080/"
        },
        "id": "HrDe6lYD-W-J",
        "outputId": "3ab08d79-c99b-4d4f-82f7-1d989517d433"
      },
      "outputs": [
        {
          "name": "stderr",
          "output_type": "stream",
          "text": [
            "1250it [02:10,  9.58it/s]\n",
            "1250it [02:10,  9.58it/s]\n",
            "1250it [02:10,  9.60it/s]\n",
            "1250it [02:10,  9.58it/s]\n",
            "1250it [02:09,  9.69it/s]\n",
            "1250it [02:09,  9.67it/s]\n",
            "1250it [02:08,  9.74it/s]\n",
            "1250it [02:09,  9.64it/s]\n",
            "1250it [02:08,  9.70it/s]\n",
            "1250it [02:08,  9.71it/s]\n",
            "1250it [02:09,  9.68it/s]\n",
            "1250it [02:09,  9.66it/s]\n",
            "1250it [02:09,  9.65it/s]\n",
            "1250it [02:09,  9.68it/s]\n",
            "1250it [02:08,  9.69it/s]\n",
            "1250it [02:08,  9.71it/s]\n",
            "1250it [02:10,  9.58it/s]\n",
            "1250it [02:10,  9.58it/s]\n",
            "1250it [02:09,  9.62it/s]\n",
            "1250it [02:09,  9.67it/s]\n"
          ]
        }
      ],
      "source": [
        "gru_only_model, train_history, valid_history, test_iterator = \\\n",
        "                train_pipeline.train_model(train_data, \n",
        "                                           valid_data, \n",
        "                                           test_data, \n",
        "                                           SRC, TRG,\n",
        "                                           GRU_only.Encoder,\n",
        "                                           GRU_only.Decoder, \n",
        "                                           GRU_only.Seq2Seq, \n",
        "                                           'Baseline 20 iters',\n",
        "                                           batch_size=32,\n",
        "                                           n_iter=20)"
      ]
    },
    {
      "cell_type": "code",
      "execution_count": 14,
      "metadata": {
        "colab": {
          "base_uri": "https://localhost:8080/"
        },
        "id": "RrumYujtBQhS",
        "outputId": "003bfde8-5cf8-48e4-d7e9-3a13b0696f68"
      },
      "outputs": [
        {
          "name": "stdout",
          "output_type": "stream",
          "text": [
            "22.662869605331153\n"
          ]
        }
      ],
      "source": [
        "bleu_score, original_text, generated_text = get_bleu_score.get_bleu_score(gru_only_model, test_iterator, TRG)\n",
        "print(bleu_score)"
      ]
    },
    {
      "cell_type": "code",
      "execution_count": 15,
      "metadata": {
        "colab": {
          "base_uri": "https://localhost:8080/"
        },
        "id": "tQ34PhabBZzQ",
        "outputId": "fbd18f65-7f8f-4498-bba6-9240c4b73e98"
      },
      "outputs": [
        {
          "name": "stdout",
          "output_type": "stream",
          "text": [
            "original: there is also a kitchen , fitted with an oven .\n",
            "translated: an oven .\n",
            "\n",
            "original: free wifi is available .\n",
            "translated: free wifi access is available .\n",
            "\n",
            "original: the property also offers free parking .\n",
            "translated: parking is free .\n",
            "\n",
            "original: other facilities offered include a massage .\n",
            "translated: massage treatments .\n",
            "\n",
            "original: the accommodation will provide you with air conditioning .\n",
            "translated: air conditioning .\n",
            "\n"
          ]
        }
      ],
      "source": [
        "for i in range(5):\n",
        "    print('original:', ' '.join(original_text[i]))\n",
        "    print('translated:', ' '.join(generated_text[i]))\n",
        "    print()"
      ]
    },
    {
      "cell_type": "code",
      "execution_count": 16,
      "metadata": {
        "colab": {
          "base_uri": "https://localhost:8080/",
          "height": 282
        },
        "id": "N_EH3nMEBdH_",
        "outputId": "e8c77083-9e97-43f8-fa44-3f8756a06f34"
      },
      "outputs": [
        {
          "data": {
            "text/plain": [
              "<matplotlib.legend.Legend at 0x7fdad1ab2fd0>"
            ]
          },
          "execution_count": 16,
          "metadata": {},
          "output_type": "execute_result"
        },
        {
          "data": {
            "image/png": "[encoded data removed]",
            "text/plain": [
              "<Figure size 432x288 with 1 Axes>"
            ]
          },
          "metadata": {
            "needs_background": "light"
          },
          "output_type": "display_data"
        }
      ],
      "source": [
        "plt.plot(train_history, label='train')\n",
        "plt.plot(valid_history, label='valid')\n",
        "plt.legend()"
      ]
    },
    {
      "cell_type": "markdown",
      "metadata": {
        "id": "XHTUOVEf9fre"
      },
      "source": [
        "Обычный decoder-encoder на GRU на 20 итерациях удалось обучить до BLEU = 22.66.  \n",
        "Качестве модели хуже, чем бейзлайн.  \n",
        "Модель переобучается после 8 итерации.  \n",
        "Обучение на Colab длилось полчаса (быстрее, чем LSTM baseline, что вполне логично). \n",
        "В режиме inference модель сможет обрабатывать батч размером 32 за 0.09 секунды."
      ]
    },
    {
      "cell_type": "markdown",
      "metadata": {
        "id": "fkcVT-8KhuSA"
      },
      "source": [
        "# 3. GRU with Attention"
      ]
    },
    {
      "cell_type": "code",
      "execution_count": 17,
      "metadata": {
        "colab": {
          "base_uri": "https://localhost:8080/"
        },
        "id": "2DtTfgfFhrWE",
        "outputId": "4dcfa189-ea9d-4bec-ae80-f7465a2bfd18"
      },
      "outputs": [
        {
          "name": "stderr",
          "output_type": "stream",
          "text": [
            "1250it [03:00,  6.94it/s]\n",
            "1250it [03:01,  6.87it/s]\n",
            "1250it [03:02,  6.84it/s]\n",
            "1250it [03:02,  6.86it/s]\n",
            "1250it [03:02,  6.86it/s]\n",
            "1250it [03:01,  6.87it/s]\n",
            "1250it [03:03,  6.81it/s]\n",
            "1250it [03:03,  6.81it/s]\n",
            "1250it [03:04,  6.79it/s]\n",
            "1250it [03:03,  6.82it/s]\n"
          ]
        }
      ],
      "source": [
        "gru_attention_model, train_history, valid_history, test_iterator = \\\n",
        "                train_pipeline.train_model(train_data, \n",
        "                                           valid_data, \n",
        "                                           test_data, \n",
        "                                           SRC, TRG,\n",
        "                                           GRU_attention.Encoder,\n",
        "                                           GRU_attention.Decoder, \n",
        "                                           GRU_attention.Seq2Seq, \n",
        "                                           'GRU only 20 iters',\n",
        "                                           batch_size=32,\n",
        "                                           n_iter=10)"
      ]
    },
    {
      "cell_type": "code",
      "execution_count": 18,
      "metadata": {
        "id": "TDo1O_SxiXi4"
      },
      "outputs": [],
      "source": [
        "bleu_score, original_text, generated_text = get_bleu_score.get_bleu_score(gru_attention_model, test_iterator, TRG)"
      ]
    },
    {
      "cell_type": "code",
      "execution_count": 19,
      "metadata": {
        "colab": {
          "base_uri": "https://localhost:8080/"
        },
        "id": "A2kDdn6uuwSy",
        "outputId": "436af499-9584-493b-9d95-b5d63470c6e6"
      },
      "outputs": [
        {
          "name": "stdout",
          "output_type": "stream",
          "text": [
            "28.363879166789857\n"
          ]
        }
      ],
      "source": [
        "print(bleu_score)"
      ]
    },
    {
      "cell_type": "code",
      "execution_count": 20,
      "metadata": {
        "colab": {
          "base_uri": "https://localhost:8080/"
        },
        "id": "o0n3m8FFuyk2",
        "outputId": "f44682ca-79f5-462e-adc9-29a78b73ecec"
      },
      "outputs": [
        {
          "name": "stdout",
          "output_type": "stream",
          "text": [
            "original: there is also a kitchen , fitted with an oven .\n",
            "translated: kitchen with an oven .\n",
            "\n",
            "original: free wifi is available .\n",
            "translated: free wi - fi access is available .\n",
            "\n",
            "original: the property also offers free parking .\n",
            "translated: parking is available .\n",
            "\n",
            "original: other facilities offered include a massage .\n",
            "translated: massage treatments are available .\n",
            "\n",
            "original: the accommodation will provide you with air conditioning .\n",
            "translated: air - conditioned accommodation is available .\n",
            "\n"
          ]
        }
      ],
      "source": [
        "for i in range(5):\n",
        "    print('original:', ' '.join(original_text[i]))\n",
        "    print('translated:', ' '.join(generated_text[i]))\n",
        "    print()"
      ]
    },
    {
      "cell_type": "code",
      "execution_count": 21,
      "metadata": {
        "colab": {
          "base_uri": "https://localhost:8080/",
          "height": 282
        },
        "id": "Ll_sIRwtu3QL",
        "outputId": "3006124e-574f-4065-b86c-594ba96829ba"
      },
      "outputs": [
        {
          "data": {
            "text/plain": [
              "<matplotlib.legend.Legend at 0x7fdad1a2ef50>"
            ]
          },
          "execution_count": 21,
          "metadata": {},
          "output_type": "execute_result"
        },
        {
          "data": {
            "image/png": "[encoded data removed]",
            "text/plain": [
              "<Figure size 432x288 with 1 Axes>"
            ]
          },
          "metadata": {
            "needs_background": "light"
          },
          "output_type": "display_data"
        }
      ],
      "source": [
        "plt.plot(train_history, label='train')\n",
        "plt.plot(valid_history, label='valid')\n",
        "plt.legend()"
      ]
    },
    {
      "cell_type": "markdown",
      "metadata": {
        "id": "_R510XJq-V27"
      },
      "source": [
        "Decoder-encoder GRU c Attention на 10 итерациях показала качество BLEU = 28.36.  \n",
        "Качестве модели лучше, чем все предыдущие. \n",
        "Обучение длилось полчаса \n",
        "Модель переобучается после 5 итерации.  \n",
        "В режиме inference модель сможет обрабатывать батч размером 32 за 0.14 секунды."
      ]
    },
    {
      "cell_type": "markdown",
      "metadata": {
        "id": "-mw48Qx4vU3-"
      },
      "source": [
        "# 4. LSTM with Attention"
      ]
    },
    {
      "cell_type": "code",
      "execution_count": 22,
      "metadata": {
        "colab": {
          "base_uri": "https://localhost:8080/"
        },
        "id": "pejq5RElvSoM",
        "outputId": "dfbd9bdd-e2d7-4c08-efee-44c9f913a3d4"
      },
      "outputs": [
        {
          "name": "stderr",
          "output_type": "stream",
          "text": [
            "1250it [03:30,  5.95it/s]\n",
            "1250it [03:28,  5.99it/s]\n",
            "1250it [03:29,  5.98it/s]\n",
            "1250it [03:29,  5.98it/s]\n",
            "1250it [03:29,  5.97it/s]\n",
            "1250it [03:28,  6.01it/s]\n",
            "1250it [03:28,  5.98it/s]\n",
            "1250it [03:27,  6.02it/s]\n",
            "1250it [03:28,  6.00it/s]\n",
            "1250it [03:28,  5.99it/s]\n"
          ]
        }
      ],
      "source": [
        "lstm_attention_model, train_history, valid_history, test_iterator = \\\n",
        "                train_pipeline.train_model(train_data, \n",
        "                                           valid_data, \n",
        "                                           test_data, \n",
        "                                           SRC, TRG,\n",
        "                                           lstm_attention.Encoder,\n",
        "                                           lstm_attention.Decoder, \n",
        "                                           lstm_attention.Seq2Seq, \n",
        "                                           'LSTM_attention 10 iters',\n",
        "                                           batch_size=32,\n",
        "                                           n_iter=10)"
      ]
    },
    {
      "cell_type": "code",
      "execution_count": 23,
      "metadata": {
        "colab": {
          "base_uri": "https://localhost:8080/"
        },
        "id": "14Msm5H6vfod",
        "outputId": "9a51a82b-5404-4006-b31d-54f3ff28a01b"
      },
      "outputs": [
        {
          "name": "stdout",
          "output_type": "stream",
          "text": [
            "33.03116908292025\n"
          ]
        }
      ],
      "source": [
        "bleu_score, original_text, generated_text = get_bleu_score.get_bleu_score(lstm_attention_model, test_iterator, TRG)\n",
        "print(bleu_score)"
      ]
    },
    {
      "cell_type": "code",
      "execution_count": 24,
      "metadata": {
        "colab": {
          "base_uri": "https://localhost:8080/"
        },
        "id": "d5wdOugt3lkg",
        "outputId": "f32fd428-e7ac-46ca-c600-86f84df632c7"
      },
      "outputs": [
        {
          "name": "stdout",
          "output_type": "stream",
          "text": [
            "original: there is also a kitchen , fitted with an oven .\n",
            "translated: the kitchen is equipped with an oven .\n",
            "\n",
            "original: free wifi is available .\n",
            "translated: free wifi - fi access is available .\n",
            "\n",
            "original: the property also offers free parking .\n",
            "translated: the property offers free parking .\n",
            "\n",
            "original: other facilities offered include a massage .\n",
            "translated: massage treatments are available .\n",
            "\n",
            "original: the accommodation will provide you with air conditioning .\n",
            "translated: the air - conditioned unit is\n",
            "\n"
          ]
        }
      ],
      "source": [
        "for i in range(5):\n",
        "    print('original:', ' '.join(original_text[i]))\n",
        "    print('translated:', ' '.join(generated_text[i]))\n",
        "    print()"
      ]
    },
    {
      "cell_type": "code",
      "execution_count": 25,
      "metadata": {
        "colab": {
          "base_uri": "https://localhost:8080/",
          "height": 282
        },
        "id": "L2MwoRlq3puN",
        "outputId": "dd7bc1bc-633e-4e9b-cbce-c2e4aed7447b"
      },
      "outputs": [
        {
          "data": {
            "text/plain": [
              "<matplotlib.legend.Legend at 0x7fdae21d6fd0>"
            ]
          },
          "execution_count": 25,
          "metadata": {},
          "output_type": "execute_result"
        },
        {
          "data": {
            "image/png": "[encoded data removed]",
            "text/plain": [
              "<Figure size 432x288 with 1 Axes>"
            ]
          },
          "metadata": {
            "needs_background": "light"
          },
          "output_type": "display_data"
        }
      ],
      "source": [
        "plt.plot(train_history, label='train')\n",
        "plt.plot(valid_history, label='valid')\n",
        "plt.legend()"
      ]
    },
    {
      "cell_type": "markdown",
      "metadata": {
        "id": "m_LoQGCo-aUT"
      },
      "source": [
        "Decoder-encoder LSTM c Attention на 10 итерациях показала качество BLEU = 33.03.  \n",
        "Качестве модели наилучшее.  \n",
        "Обучение длилось полчаса\n",
        "Модель переобучается после 5 итерации, но значительно меньше, чем предыдущие модели.  \n",
        "В режиме inference модель сможет обрабатывать батч размером 32 за 0.14 секунды, как и GRU with Attention"
      ]
    },
    {
      "cell_type": "markdown",
      "metadata": {
        "id": "i1OKg1Wt-rqE"
      },
      "source": [
        "Общие выводы:\n",
        "\n",
        "\n",
        "*   Удалось выбить максимальное качество BLEU = 33.03 на LSTM with Attention.\n",
        "*   В целом модели с Attention справляются лучше с задачей перевода, однако, обучаются значительно дольше. Так же снижается переобучение.\n",
        "\n"
      ]
    },
    {
      "cell_type": "code",
      "execution_count": 25,
      "metadata": {
        "id": "9U1AIxHgEEEF"
      },
      "outputs": [],
      "source": []
    }
  ],
  "metadata": {
    "accelerator": "GPU",
    "colab": {
      "collapsed_sections": [],
      "name": "notebook_from_colab.ipynb",
      "provenance": []
    },
    "kernelspec": {
      "display_name": "Python 3",
      "name": "python3"
    },
    "language_info": {
      "name": "python"
    }
  },
  "nbformat": 4,
  "nbformat_minor": 0
}
